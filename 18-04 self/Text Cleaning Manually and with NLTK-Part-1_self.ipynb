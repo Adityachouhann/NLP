{
 "cells": [
  {
   "cell_type": "markdown",
   "id": "e2c760da-9419-40ff-a50f-eab61ff5d899",
   "metadata": {},
   "source": [
    "### Import the packages "
   ]
  },
  {
   "cell_type": "code",
   "execution_count": 6,
   "id": "51177723-1e2d-4657-8f10-d4130d8c90a8",
   "metadata": {},
   "outputs": [],
   "source": [
    "import string,re\n",
    "from nltk.tokenize import word_tokenize,sent_tokenize\n",
    "from nltk.corpus import stopwords\n",
    "from nltk.stem.porter import PorterStemmer"
   ]
  },
  {
   "cell_type": "markdown",
   "id": "9612353c-86ed-4c88-9a06-27a5391711b9",
   "metadata": {},
   "source": [
    "### Read the data "
   ]
  },
  {
   "cell_type": "code",
   "execution_count": 9,
   "id": "4978c1c6-9730-4711-b7f0-ef1ab7e7905b",
   "metadata": {},
   "outputs": [],
   "source": [
    "filename='metamorphosis clean (1).txt'\n",
    "file=open(filename,'rt',encoding='utf-8-sig')\n",
    "text=file.read()"
   ]
  },
  {
   "cell_type": "markdown",
   "id": "3903b9d6-3583-4e9d-8178-59d0a7662fa9",
   "metadata": {},
   "source": [
    "### split into tokens "
   ]
  },
  {
   "cell_type": "code",
   "execution_count": 13,
   "id": "6ebcb556-b767-4694-a038-f025c470f996",
   "metadata": {},
   "outputs": [],
   "source": [
    "tokens=word_tokenize(text)"
   ]
  },
  {
   "cell_type": "markdown",
   "id": "82c75549-1861-4fee-9953-9db5375b5e7e",
   "metadata": {},
   "source": [
    "### Convert into lowercase "
   ]
  },
  {
   "cell_type": "code",
   "execution_count": 16,
   "id": "6ed2fd90-c8d8-4c31-b654-7fc84492d85e",
   "metadata": {},
   "outputs": [],
   "source": [
    "tokens=[w.lower() for w in tokens]"
   ]
  },
  {
   "cell_type": "markdown",
   "id": "aec2700c-9339-4272-91e3-5589b8570a5a",
   "metadata": {},
   "source": [
    "### Prepare regex for removing the punctuations"
   ]
  },
  {
   "cell_type": "code",
   "execution_count": 19,
   "id": "e2327ec7-6c2f-44f5-9dcf-e847c7c3ccdc",
   "metadata": {},
   "outputs": [],
   "source": [
    "re_punct=re.compile('[%s]'%re.escape(string.punctuation))"
   ]
  },
  {
   "cell_type": "markdown",
   "id": "596fa367-a8c6-4f17-a4b6-db69c03ff35e",
   "metadata": {},
   "source": [
    "### Remove the punctuations"
   ]
  },
  {
   "cell_type": "code",
   "execution_count": 22,
   "id": "03d53b86-f4f0-4392-affb-1660f3a199d5",
   "metadata": {},
   "outputs": [],
   "source": [
    "stripped=[re_punct.sub('',w) for w in tokens]"
   ]
  },
  {
   "cell_type": "markdown",
   "id": "0a9e39d6-3391-4106-b2d5-3d90e411b548",
   "metadata": {},
   "source": [
    "### Will remove all tokens that are not alphabetic"
   ]
  },
  {
   "cell_type": "code",
   "execution_count": 25,
   "id": "19664e91-ab0d-4a8a-b844-ff7936dd9741",
   "metadata": {},
   "outputs": [],
   "source": [
    "words=[word for word in stripped if word.isalpha()]"
   ]
  },
  {
   "cell_type": "markdown",
   "id": "2397de93-91db-411d-99b8-4eba44ca825e",
   "metadata": {},
   "source": [
    "### Remove the stopwords"
   ]
  },
  {
   "cell_type": "code",
   "execution_count": 28,
   "id": "8a95f122-55d9-4888-a927-2411507edcd0",
   "metadata": {},
   "outputs": [
    {
     "name": "stdout",
     "output_type": "stream",
     "text": [
      "['one', 'morning', 'gregor', 'samsa', 'woke', 'troubled', 'dreams']\n"
     ]
    }
   ],
   "source": [
    "stop_words=stopwords.words('english')\n",
    "words=[w for w in words if not w in stop_words]\n",
    "print(words[:7])"
   ]
  },
  {
   "cell_type": "markdown",
   "id": "aba3f616-0726-4386-9474-20e7220649b4",
   "metadata": {},
   "source": [
    "### Apply the stemmer"
   ]
  },
  {
   "cell_type": "code",
   "execution_count": 33,
   "id": "4e258629-b6c8-412b-b9da-77538e863999",
   "metadata": {},
   "outputs": [
    {
     "name": "stdout",
     "output_type": "stream",
     "text": [
      "['one', 'morn', 'gregor', 'samsa', 'woke', 'troubl', 'dream']\n"
     ]
    }
   ],
   "source": [
    "porter=PorterStemmer()\n",
    "stem_words=[porter.stem(word) for word in words]\n",
    "print(stem_words[:7])"
   ]
  },
  {
   "cell_type": "code",
   "execution_count": null,
   "id": "0a9b36ef-3fc1-4a61-b7e3-106c8637df89",
   "metadata": {},
   "outputs": [],
   "source": []
  }
 ],
 "metadata": {
  "kernelspec": {
   "display_name": "Python [conda env:anaconda1]",
   "language": "python",
   "name": "conda-env-anaconda1-py"
  },
  "language_info": {
   "codemirror_mode": {
    "name": "ipython",
    "version": 3
   },
   "file_extension": ".py",
   "mimetype": "text/x-python",
   "name": "python",
   "nbconvert_exporter": "python",
   "pygments_lexer": "ipython3",
   "version": "3.12.8"
  }
 },
 "nbformat": 4,
 "nbformat_minor": 5
}
