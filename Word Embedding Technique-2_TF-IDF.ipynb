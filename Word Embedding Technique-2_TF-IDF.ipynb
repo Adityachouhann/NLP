{
 "cells": [
  {
   "cell_type": "code",
   "execution_count": 6,
   "id": "e819b2b9-5d37-45dd-b51d-f90da9ee55e4",
   "metadata": {},
   "outputs": [
    {
     "data": {
      "text/plain": [
       "{'I',\n",
       " 'It',\n",
       " 'Today',\n",
       " 'am',\n",
       " 'going',\n",
       " 'is',\n",
       " 'not',\n",
       " 'outside',\n",
       " 'premiere',\n",
       " 'rain',\n",
       " 'season',\n",
       " 'the',\n",
       " 'to',\n",
       " 'today',\n",
       " 'watch'}"
      ]
     },
     "execution_count": 6,
     "metadata": {},
     "output_type": "execute_result"
    }
   ],
   "source": [
    "d1=\"It is going to rain today\"\n",
    "d2=\"Today I am not going outside\"\n",
    "d3=\"I am going to watch the season premiere\"\n",
    "\n",
    "l1=d1.split()\n",
    "l2=d2.split()\n",
    "l3=d3.split()\n",
    "val1=set(l1+l2+l3)\n",
    "val1"
   ]
  },
  {
   "cell_type": "code",
   "execution_count": 4,
   "id": "819ed1b0-c968-47d2-9b64-d39c1844d8cf",
   "metadata": {},
   "outputs": [
    {
     "data": {
      "text/plain": [
       "{'is': 0.17,\n",
       " 'season': 0,\n",
       " 'today': 0.17,\n",
       " 'premiere': 0,\n",
       " 'It': 0.17,\n",
       " 'not': 0,\n",
       " 'outside': 0,\n",
       " 'going': 0.17,\n",
       " 'the': 0,\n",
       " 'Today': 0,\n",
       " 'watch': 0,\n",
       " 'rain': 0.17,\n",
       " 'to': 0.17,\n",
       " 'I': 0.17,\n",
       " 'am': 0}"
      ]
     },
     "execution_count": 4,
     "metadata": {},
     "output_type": "execute_result"
    }
   ],
   "source": [
    "dict1={}\n",
    "for i in val1:\n",
    "    if i in d1:\n",
    "        dict1[i]=round(1/len(l1),2)\n",
    "    else:\n",
    "        dict1[i]=0\n",
    "\n",
    "dict1"
   ]
  },
  {
   "cell_type": "code",
   "execution_count": 10,
   "id": "b8a05919-b6bb-458b-a952-53e9d6a51d8e",
   "metadata": {},
   "outputs": [
    {
     "data": {
      "text/plain": [
       "{'is': 0.17,\n",
       " 'season': 0,\n",
       " 'today': 0.17,\n",
       " 'premiere': 0,\n",
       " 'It': 0.17,\n",
       " 'not': 0,\n",
       " 'outside': 0,\n",
       " 'going': 0.17,\n",
       " 'the': 0,\n",
       " 'Today': 0,\n",
       " 'watch': 0,\n",
       " 'rain': 0.17,\n",
       " 'to': 0.17,\n",
       " 'I': 0.17,\n",
       " 'am': 0}"
      ]
     },
     "execution_count": 10,
     "metadata": {},
     "output_type": "execute_result"
    }
   ],
   "source": [
    "dict2={}\n",
    "for i in val1:\n",
    "    if i in d1:\n",
    "        dict2[i]=round(1/len(l2),2)\n",
    "    else:\n",
    "        dict2[i]=0\n",
    "dict2"
   ]
  },
  {
   "cell_type": "code",
   "execution_count": 12,
   "id": "2597eca7-c7bc-4e40-8ff0-c033d4cce8b0",
   "metadata": {},
   "outputs": [
    {
     "data": {
      "text/plain": [
       "{'is': 0.12,\n",
       " 'season': 0,\n",
       " 'today': 0.12,\n",
       " 'premiere': 0,\n",
       " 'It': 0.12,\n",
       " 'not': 0,\n",
       " 'outside': 0,\n",
       " 'going': 0.12,\n",
       " 'the': 0,\n",
       " 'Today': 0,\n",
       " 'watch': 0,\n",
       " 'rain': 0.12,\n",
       " 'to': 0.12,\n",
       " 'I': 0.12,\n",
       " 'am': 0}"
      ]
     },
     "execution_count": 12,
     "metadata": {},
     "output_type": "execute_result"
    }
   ],
   "source": [
    "dict3={}\n",
    "for i in val1:\n",
    "    if i in d1:\n",
    "       dict3[i] =round(1/len(l3),2)\n",
    "    else:\n",
    "        dict3[i]=0\n",
    "\n",
    "dict3"
   ]
  },
  {
   "cell_type": "code",
   "execution_count": 14,
   "id": "c5845ea0-1e2f-489f-88e9-d1bbafef6039",
   "metadata": {},
   "outputs": [
    {
     "data": {
      "text/plain": [
       "(     is  season  today  premiere    It  not  outside  going  the  Today  \\\n",
       " A  0.17       0   0.17         0  0.17    0        0   0.17    0      0   \n",
       " \n",
       "    watch  rain    to     I  am  \n",
       " A      0  0.17  0.17  0.17   0  ,\n",
       "      is  season  today  premiere    It  not  outside  going  the  Today  \\\n",
       " B  0.17       0   0.17         0  0.17    0        0   0.17    0      0   \n",
       " \n",
       "    watch  rain    to     I  am  \n",
       " B      0  0.17  0.17  0.17   0  ,\n",
       "      is  season  today  premiere    It  not  outside  going  the  Today  \\\n",
       " C  0.12       0   0.12         0  0.12    0        0   0.12    0      0   \n",
       " \n",
       "    watch  rain    to     I  am  \n",
       " C      0  0.12  0.12  0.12   0  )"
      ]
     },
     "execution_count": 14,
     "metadata": {},
     "output_type": "execute_result"
    }
   ],
   "source": [
    "import pandas as pd\n",
    "df1=pd.DataFrame(dict1,index=['A'])\n",
    "df2=pd.DataFrame(dict2,index=['B'])\n",
    "df3=pd.DataFrame(dict3,index=['C'])\n",
    "df1,df2,df3"
   ]
  },
  {
   "cell_type": "code",
   "execution_count": 36,
   "id": "fe2a379a-c9f4-48a7-b1c5-e4d4f7b84dd5",
   "metadata": {},
   "outputs": [
    {
     "data": {
      "text/html": [
       "<div>\n",
       "<style scoped>\n",
       "    .dataframe tbody tr th:only-of-type {\n",
       "        vertical-align: middle;\n",
       "    }\n",
       "\n",
       "    .dataframe tbody tr th {\n",
       "        vertical-align: top;\n",
       "    }\n",
       "\n",
       "    .dataframe thead th {\n",
       "        text-align: right;\n",
       "    }\n",
       "</style>\n",
       "<table border=\"1\" class=\"dataframe\">\n",
       "  <thead>\n",
       "    <tr style=\"text-align: right;\">\n",
       "      <th></th>\n",
       "      <th>is</th>\n",
       "      <th>season</th>\n",
       "      <th>today</th>\n",
       "      <th>premiere</th>\n",
       "      <th>It</th>\n",
       "      <th>not</th>\n",
       "      <th>outside</th>\n",
       "      <th>going</th>\n",
       "      <th>the</th>\n",
       "      <th>Today</th>\n",
       "      <th>watch</th>\n",
       "      <th>rain</th>\n",
       "      <th>to</th>\n",
       "      <th>I</th>\n",
       "      <th>am</th>\n",
       "    </tr>\n",
       "  </thead>\n",
       "  <tbody>\n",
       "    <tr>\n",
       "      <th>A</th>\n",
       "      <td>0.17</td>\n",
       "      <td>0</td>\n",
       "      <td>0.17</td>\n",
       "      <td>0</td>\n",
       "      <td>0.17</td>\n",
       "      <td>0</td>\n",
       "      <td>0</td>\n",
       "      <td>0.17</td>\n",
       "      <td>0</td>\n",
       "      <td>0</td>\n",
       "      <td>0</td>\n",
       "      <td>0.17</td>\n",
       "      <td>0.17</td>\n",
       "      <td>0.17</td>\n",
       "      <td>0</td>\n",
       "    </tr>\n",
       "  </tbody>\n",
       "</table>\n",
       "</div>"
      ],
      "text/plain": [
       "     is  season  today  premiere    It  not  outside  going  the  Today  \\\n",
       "A  0.17       0   0.17         0  0.17    0        0   0.17    0      0   \n",
       "\n",
       "   watch  rain    to     I  am  \n",
       "A      0  0.17  0.17  0.17   0  "
      ]
     },
     "execution_count": 36,
     "metadata": {},
     "output_type": "execute_result"
    }
   ],
   "source": [
    "df1"
   ]
  },
  {
   "cell_type": "code",
   "execution_count": 40,
   "id": "e36c25e9-7e1c-405b-9ec4-1fdb1ba2072b",
   "metadata": {},
   "outputs": [
    {
     "data": {
      "text/html": [
       "<div>\n",
       "<style scoped>\n",
       "    .dataframe tbody tr th:only-of-type {\n",
       "        vertical-align: middle;\n",
       "    }\n",
       "\n",
       "    .dataframe tbody tr th {\n",
       "        vertical-align: top;\n",
       "    }\n",
       "\n",
       "    .dataframe thead th {\n",
       "        text-align: right;\n",
       "    }\n",
       "</style>\n",
       "<table border=\"1\" class=\"dataframe\">\n",
       "  <thead>\n",
       "    <tr style=\"text-align: right;\">\n",
       "      <th></th>\n",
       "      <th>is</th>\n",
       "      <th>season</th>\n",
       "      <th>today</th>\n",
       "      <th>premiere</th>\n",
       "      <th>It</th>\n",
       "      <th>not</th>\n",
       "      <th>outside</th>\n",
       "      <th>going</th>\n",
       "      <th>the</th>\n",
       "      <th>Today</th>\n",
       "      <th>watch</th>\n",
       "      <th>rain</th>\n",
       "      <th>to</th>\n",
       "      <th>I</th>\n",
       "      <th>am</th>\n",
       "    </tr>\n",
       "  </thead>\n",
       "  <tbody>\n",
       "    <tr>\n",
       "      <th>B</th>\n",
       "      <td>0.17</td>\n",
       "      <td>0</td>\n",
       "      <td>0.17</td>\n",
       "      <td>0</td>\n",
       "      <td>0.17</td>\n",
       "      <td>0</td>\n",
       "      <td>0</td>\n",
       "      <td>0.17</td>\n",
       "      <td>0</td>\n",
       "      <td>0</td>\n",
       "      <td>0</td>\n",
       "      <td>0.17</td>\n",
       "      <td>0.17</td>\n",
       "      <td>0.17</td>\n",
       "      <td>0</td>\n",
       "    </tr>\n",
       "  </tbody>\n",
       "</table>\n",
       "</div>"
      ],
      "text/plain": [
       "     is  season  today  premiere    It  not  outside  going  the  Today  \\\n",
       "B  0.17       0   0.17         0  0.17    0        0   0.17    0      0   \n",
       "\n",
       "   watch  rain    to     I  am  \n",
       "B      0  0.17  0.17  0.17   0  "
      ]
     },
     "execution_count": 40,
     "metadata": {},
     "output_type": "execute_result"
    }
   ],
   "source": [
    "df2"
   ]
  },
  {
   "cell_type": "code",
   "execution_count": 42,
   "id": "cfc646d4-e366-4b88-9b77-341714a28ef5",
   "metadata": {},
   "outputs": [
    {
     "data": {
      "text/html": [
       "<div>\n",
       "<style scoped>\n",
       "    .dataframe tbody tr th:only-of-type {\n",
       "        vertical-align: middle;\n",
       "    }\n",
       "\n",
       "    .dataframe tbody tr th {\n",
       "        vertical-align: top;\n",
       "    }\n",
       "\n",
       "    .dataframe thead th {\n",
       "        text-align: right;\n",
       "    }\n",
       "</style>\n",
       "<table border=\"1\" class=\"dataframe\">\n",
       "  <thead>\n",
       "    <tr style=\"text-align: right;\">\n",
       "      <th></th>\n",
       "      <th>is</th>\n",
       "      <th>season</th>\n",
       "      <th>today</th>\n",
       "      <th>premiere</th>\n",
       "      <th>It</th>\n",
       "      <th>not</th>\n",
       "      <th>outside</th>\n",
       "      <th>going</th>\n",
       "      <th>the</th>\n",
       "      <th>Today</th>\n",
       "      <th>watch</th>\n",
       "      <th>rain</th>\n",
       "      <th>to</th>\n",
       "      <th>I</th>\n",
       "      <th>am</th>\n",
       "    </tr>\n",
       "  </thead>\n",
       "  <tbody>\n",
       "    <tr>\n",
       "      <th>C</th>\n",
       "      <td>0.12</td>\n",
       "      <td>0</td>\n",
       "      <td>0.12</td>\n",
       "      <td>0</td>\n",
       "      <td>0.12</td>\n",
       "      <td>0</td>\n",
       "      <td>0</td>\n",
       "      <td>0.12</td>\n",
       "      <td>0</td>\n",
       "      <td>0</td>\n",
       "      <td>0</td>\n",
       "      <td>0.12</td>\n",
       "      <td>0.12</td>\n",
       "      <td>0.12</td>\n",
       "      <td>0</td>\n",
       "    </tr>\n",
       "  </tbody>\n",
       "</table>\n",
       "</div>"
      ],
      "text/plain": [
       "     is  season  today  premiere    It  not  outside  going  the  Today  \\\n",
       "C  0.12       0   0.12         0  0.12    0        0   0.12    0      0   \n",
       "\n",
       "   watch  rain    to     I  am  \n",
       "C      0  0.12  0.12  0.12   0  "
      ]
     },
     "execution_count": 42,
     "metadata": {},
     "output_type": "execute_result"
    }
   ],
   "source": [
    "df3"
   ]
  },
  {
   "cell_type": "markdown",
   "id": "866af5f0-cf03-4cb0-8934-52e43b03c8b0",
   "metadata": {},
   "source": [
    "TfidfVectorizer"
   ]
  },
  {
   "cell_type": "code",
   "execution_count": 49,
   "id": "3d375af6-e619-4990-854f-4a2833a1dcf4",
   "metadata": {},
   "outputs": [
    {
     "name": "stdout",
     "output_type": "stream",
     "text": [
      "['going rain today.', 'Today going outside.', 'going watch season premiere.']\n"
     ]
    }
   ],
   "source": [
    "Document1= \"going rain today.\"\n",
    "Document2= \"Today going outside.\"\n",
    "Document3= \"going watch season premiere.\"\n",
    "Doc = [Document1 ,Document2 , Document3]\n",
    "print(Doc)"
   ]
  },
  {
   "cell_type": "code",
   "execution_count": 51,
   "id": "40d4a7c9-aab1-41e9-bd5f-c7df45a81952",
   "metadata": {},
   "outputs": [],
   "source": [
    "from sklearn.feature_extraction.text import TfidfVectorizer\n",
    "vectorizer=TfidfVectorizer()\n",
    "x=vectorizer.fit_transform(Doc)"
   ]
  },
  {
   "cell_type": "code",
   "execution_count": 53,
   "id": "87a91fdd-5aa1-404b-96e6-60f9c876af23",
   "metadata": {},
   "outputs": [
    {
     "data": {
      "text/plain": [
       "{'going': 0,\n",
       " 'rain': 3,\n",
       " 'today': 5,\n",
       " 'outside': 1,\n",
       " 'watch': 6,\n",
       " 'season': 4,\n",
       " 'premiere': 2}"
      ]
     },
     "execution_count": 53,
     "metadata": {},
     "output_type": "execute_result"
    }
   ],
   "source": [
    "vectorizer.vocabulary_"
   ]
  },
  {
   "cell_type": "code",
   "execution_count": 55,
   "id": "e8ba7892-f02a-4c13-b171-cdf524e60e94",
   "metadata": {},
   "outputs": [
    {
     "name": "stdout",
     "output_type": "stream",
     "text": [
      "Document 1 ['going', 'rain', 'today']\n",
      "Document 2 ['today', 'going', 'outside']\n",
      "Document 3 ['going', 'watch', 'season', 'premiere']\n",
      "Document transform [[0.42544054 0.         0.         0.72033345 0.         0.54783215\n",
      "  0.        ]\n",
      " [0.42544054 0.72033345 0.         0.         0.         0.54783215\n",
      "  0.        ]\n",
      " [0.32274454 0.         0.54645401 0.         0.54645401 0.\n",
      "  0.54645401]]\n"
     ]
    }
   ],
   "source": [
    "analyze=vectorizer.build_analyzer()\n",
    "print('Document 1',analyze(Document1))\n",
    "print('Document 2',analyze(Document2))\n",
    "print('Document 3',analyze(Document3))\n",
    "print('Document transform',x.toarray())"
   ]
  },
  {
   "cell_type": "code",
   "execution_count": 57,
   "id": "d1398d4a-8f19-45c4-af18-76f42186872c",
   "metadata": {},
   "outputs": [
    {
     "data": {
      "text/plain": [
       "array(['going', 'outside', 'premiere', 'rain', 'season', 'today', 'watch'],\n",
       "      dtype=object)"
      ]
     },
     "execution_count": 57,
     "metadata": {},
     "output_type": "execute_result"
    }
   ],
   "source": [
    "vectorizer.get_feature_names_out()"
   ]
  },
  {
   "cell_type": "code",
   "execution_count": 59,
   "id": "78a3ecbb-6525-4da0-95c4-af5a602f2a2e",
   "metadata": {},
   "outputs": [
    {
     "data": {
      "text/plain": [
       "7"
      ]
     },
     "execution_count": 59,
     "metadata": {},
     "output_type": "execute_result"
    }
   ],
   "source": [
    "len(x.toarray()[0])"
   ]
  },
  {
   "cell_type": "code",
   "execution_count": 61,
   "id": "771007a8-93f6-4b9f-87a7-5cef745bc828",
   "metadata": {},
   "outputs": [
    {
     "data": {
      "text/plain": [
       "array([0.42544054, 0.        , 0.        , 0.72033345, 0.        ,\n",
       "       0.54783215, 0.        ])"
      ]
     },
     "execution_count": 61,
     "metadata": {},
     "output_type": "execute_result"
    }
   ],
   "source": [
    "x.toarray()[0]"
   ]
  },
  {
   "cell_type": "code",
   "execution_count": 63,
   "id": "a4f0cf69-8846-49b6-aefb-9ed38e5b3569",
   "metadata": {},
   "outputs": [
    {
     "name": "stdout",
     "output_type": "stream",
     "text": [
      "['good movie.', 'good snacks.', 'movie snacks good.']\n",
      "document 1 ['good', 'movie']\n",
      "document 2 ['good', 'snacks']\n",
      "document 3 ['movie', 'snacks', 'good']\n"
     ]
    },
    {
     "data": {
      "text/plain": [
       "array(['good', 'movie', 'snacks'], dtype=object)"
      ]
     },
     "execution_count": 63,
     "metadata": {},
     "output_type": "execute_result"
    }
   ],
   "source": [
    "#without Normalization\n",
    "docuemnt1='good movie.'\n",
    "document2='good snacks.'\n",
    "document3='movie snacks good.'\n",
    "doc=[docuemnt1,document2,document3]\n",
    "print(doc)\n",
    "\n",
    "from sklearn.feature_extraction.text import TfidfVectorizer\n",
    "vectorizer=TfidfVectorizer(norm=None)\n",
    "x=vectorizer.fit_transform(doc)\n",
    "\n",
    "analyze=vectorizer.build_analyzer()\n",
    "print('document 1',analyze(docuemnt1))\n",
    "print('document 2',analyze(document2))\n",
    "print('document 3',analyze(document3))\n",
    "\n",
    "vectorizer.get_feature_names_out()"
   ]
  },
  {
   "cell_type": "code",
   "execution_count": 65,
   "id": "15e038ce-bb85-4018-9943-c9abafed2788",
   "metadata": {},
   "outputs": [
    {
     "data": {
      "text/plain": [
       "np.float64(1.0000000025623583)"
      ]
     },
     "execution_count": 65,
     "metadata": {},
     "output_type": "execute_result"
    }
   ],
   "source": [
    "v1=[0.61335554,0.78980693,0]\n",
    "np.linalg.norm(v1)"
   ]
  },
  {
   "cell_type": "code",
   "execution_count": 67,
   "id": "218da787-0b33-4354-858a-334c14d54c23",
   "metadata": {},
   "outputs": [
    {
     "data": {
      "text/plain": [
       "np.float64(1.0)"
      ]
     },
     "execution_count": 67,
     "metadata": {},
     "output_type": "execute_result"
    }
   ],
   "source": [
    "1 * (np.log((3 + 1)/(3+1)) + 1)"
   ]
  },
  {
   "cell_type": "code",
   "execution_count": 69,
   "id": "134e9edc-bd6f-4b42-85ed-f262a4a00b04",
   "metadata": {},
   "outputs": [
    {
     "data": {
      "text/plain": [
       "np.float64(1.2876820724517808)"
      ]
     },
     "execution_count": 69,
     "metadata": {},
     "output_type": "execute_result"
    }
   ],
   "source": [
    "# movie \n",
    "1 * (np.log((3 + 1)/(2+1)) + 1)"
   ]
  },
  {
   "cell_type": "code",
   "execution_count": null,
   "id": "d804b6b6-af67-4e4b-be01-7e7c06b93dbd",
   "metadata": {},
   "outputs": [],
   "source": [
    "# With Normalization\n",
    "doc"
   ]
  },
  {
   "cell_type": "code",
   "execution_count": 71,
   "id": "c2e47a13-8e3e-4e41-bf7a-be4ce6070ece",
   "metadata": {},
   "outputs": [
    {
     "name": "stdout",
     "output_type": "stream",
     "text": [
      "['good movie.', 'good snacks.', 'movie snacks good.']\n",
      "Document 1 ['good', 'movie']\n",
      "Document 2 ['good', 'snacks']\n",
      "Document 3 ['movie', 'snacks', 'good']\n",
      "Document transform [[0.61335554 0.78980693 0.        ]\n",
      " [0.61335554 0.         0.78980693]\n",
      " [0.48133417 0.61980538 0.61980538]]\n"
     ]
    },
    {
     "data": {
      "text/plain": [
       "array(['good', 'movie', 'snacks'], dtype=object)"
      ]
     },
     "execution_count": 71,
     "metadata": {},
     "output_type": "execute_result"
    }
   ],
   "source": [
    "# With Normalization\n",
    "Document1= \"good movie.\"\n",
    "Document2= \"good snacks.\"\n",
    "Document3= \"movie snacks good.\"\n",
    "Doc = [Document1 ,Document2 , Document3]\n",
    "print(Doc)\n",
    "\n",
    "\n",
    "from sklearn.feature_extraction.text import TfidfVectorizer\n",
    "vectorizer = TfidfVectorizer()\n",
    "X = vectorizer.fit_transform(Doc)\n",
    "\n",
    "analyze = vectorizer.build_analyzer()\n",
    "print(\"Document 1\",analyze(Document1))\n",
    "print(\"Document 2\",analyze(Document2))\n",
    "print(\"Document 3\",analyze(Document3))\n",
    "print(\"Document transform\",X.toarray())\n",
    "\n",
    "vectorizer.get_feature_names_out()"
   ]
  },
  {
   "cell_type": "code",
   "execution_count": 73,
   "id": "c9594aa2-7cf3-4700-a0a8-274ff7a79d37",
   "metadata": {},
   "outputs": [
    {
     "name": "stdout",
     "output_type": "stream",
     "text": [
      "[0.61335554 0.78980693 0.        ]\n"
     ]
    }
   ],
   "source": [
    "tfidf_vector =[1,1.28768207,0]\n",
    "tfidf_vector=tfidf_vector/np.linalg.norm(tfidf_vector)\n",
    "print(tfidf_vector)"
   ]
  },
  {
   "cell_type": "code",
   "execution_count": null,
   "id": "5b2db77d-d926-4baa-829e-d89b597a3e84",
   "metadata": {},
   "outputs": [],
   "source": []
  },
  {
   "cell_type": "code",
   "execution_count": null,
   "id": "8db1013c-8009-401b-ba09-22d4c7ee160e",
   "metadata": {},
   "outputs": [],
   "source": []
  }
 ],
 "metadata": {
  "kernelspec": {
   "display_name": "Python [conda env:anaconda1]",
   "language": "python",
   "name": "conda-env-anaconda1-py"
  },
  "language_info": {
   "codemirror_mode": {
    "name": "ipython",
    "version": 3
   },
   "file_extension": ".py",
   "mimetype": "text/x-python",
   "name": "python",
   "nbconvert_exporter": "python",
   "pygments_lexer": "ipython3",
   "version": "3.12.8"
  }
 },
 "nbformat": 4,
 "nbformat_minor": 5
}
