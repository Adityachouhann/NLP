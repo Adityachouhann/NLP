{
 "cells": [
  {
   "cell_type": "code",
   "execution_count": 3,
   "id": "0e370bad-2672-478b-9a99-1a640ecb98ff",
   "metadata": {},
   "outputs": [
    {
     "name": "stdout",
     "output_type": "stream",
     "text": [
      "['sky nice', 'clouds nice', 'sky nice clouds nice']\n"
     ]
    }
   ],
   "source": [
    "from nltk.corpus import stopwords\n",
    "sentences = ['sky is nice', 'clouds are nice', 'Sky is nice and Clouds are nice']\n",
    "cleaned_sentence=[]\n",
    "for sentence in sentences:\n",
    "    word=sentence.lower()\n",
    "    word=word.split()\n",
    "\n",
    "    word=[i for i in word if i not in set(stopwords.words('english'))]\n",
    "    word=\" \".join(word)\n",
    "    cleaned_sentence.append(word)\n",
    "print(cleaned_sentence)"
   ]
  },
  {
   "cell_type": "code",
   "execution_count": 4,
   "id": "3658628e-5f8a-4824-9cc4-a5c2b727087b",
   "metadata": {},
   "outputs": [
    {
     "data": {
      "text/plain": [
       "array([[0, 1, 1],\n",
       "       [1, 1, 0],\n",
       "       [1, 2, 1]])"
      ]
     },
     "execution_count": 4,
     "metadata": {},
     "output_type": "execute_result"
    }
   ],
   "source": [
    "from sklearn.feature_extraction.text import CountVectorizer\n",
    "cv=CountVectorizer(max_features=3)\n",
    "Bagofwords=cv.fit_transform(cleaned_sentence)\n",
    "Bagofwords.toarray()"
   ]
  },
  {
   "cell_type": "code",
   "execution_count": 5,
   "id": "5f0233de-648f-4a68-aa3e-53175f6e41c9",
   "metadata": {},
   "outputs": [
    {
     "data": {
      "text/html": [
       "<div>\n",
       "<style scoped>\n",
       "    .dataframe tbody tr th:only-of-type {\n",
       "        vertical-align: middle;\n",
       "    }\n",
       "\n",
       "    .dataframe tbody tr th {\n",
       "        vertical-align: top;\n",
       "    }\n",
       "\n",
       "    .dataframe thead th {\n",
       "        text-align: right;\n",
       "    }\n",
       "</style>\n",
       "<table border=\"1\" class=\"dataframe\">\n",
       "  <thead>\n",
       "    <tr style=\"text-align: right;\">\n",
       "      <th></th>\n",
       "      <th>cloud</th>\n",
       "      <th>nice</th>\n",
       "      <th>sky</th>\n",
       "    </tr>\n",
       "  </thead>\n",
       "  <tbody>\n",
       "    <tr>\n",
       "      <th>0</th>\n",
       "      <td>0</td>\n",
       "      <td>1</td>\n",
       "      <td>1</td>\n",
       "    </tr>\n",
       "    <tr>\n",
       "      <th>1</th>\n",
       "      <td>1</td>\n",
       "      <td>1</td>\n",
       "      <td>0</td>\n",
       "    </tr>\n",
       "    <tr>\n",
       "      <th>2</th>\n",
       "      <td>1</td>\n",
       "      <td>2</td>\n",
       "      <td>1</td>\n",
       "    </tr>\n",
       "  </tbody>\n",
       "</table>\n",
       "</div>"
      ],
      "text/plain": [
       "   cloud  nice  sky\n",
       "0      0     1    1\n",
       "1      1     1    0\n",
       "2      1     2    1"
      ]
     },
     "execution_count": 5,
     "metadata": {},
     "output_type": "execute_result"
    }
   ],
   "source": [
    "import pandas as pd \n",
    "pd.DataFrame(Bagofwords.toarray(),columns=['cloud','nice','sky'])"
   ]
  },
  {
   "cell_type": "code",
   "execution_count": 6,
   "id": "99419427-1bf7-4fd4-9641-e037d75ed588",
   "metadata": {},
   "outputs": [
    {
     "data": {
      "text/plain": [
       "{'sky': np.int64(2), 'nice': np.int64(1), 'clouds': np.int64(0)}"
      ]
     },
     "execution_count": 6,
     "metadata": {},
     "output_type": "execute_result"
    }
   ],
   "source": [
    "cv.vocabulary_"
   ]
  },
  {
   "cell_type": "code",
   "execution_count": 7,
   "id": "337fb3ca-f0e3-4181-8c24-4edd4137a293",
   "metadata": {},
   "outputs": [],
   "source": [
    "#Bagofwords.view()"
   ]
  },
  {
   "cell_type": "code",
   "execution_count": 8,
   "id": "a92a4159-da40-42d8-97e3-c2ad8728ff80",
   "metadata": {},
   "outputs": [
    {
     "name": "stdout",
     "output_type": "stream",
     "text": [
      "['game thrones amazing tv series!', 'game thrones best tv series!', 'game thrones great']\n",
      "{'game': 2, 'thrones': 5, 'amazing': 0, 'tv': 6, 'series': 4, 'best': 1, 'great': 3}\n",
      "[[1 0 1 0 1 1 1]\n",
      " [0 1 1 0 1 1 1]\n",
      " [0 0 1 1 0 1 0]]\n"
     ]
    }
   ],
   "source": [
    "from nltk.corpus import stopwords\n",
    "from sklearn.feature_extraction.text import CountVectorizer\n",
    "sentences = ['Game of Thrones is an amazing tv series!', \n",
    "             'Game of Thrones is the best tv series!', \n",
    "             'Game of Thrones is so great']\n",
    "cleaned_sentences=[]\n",
    "\n",
    "for sentence in sentences:\n",
    "    word=sentence.lower()\n",
    "    word= word.split()\n",
    "    word=[i for i in word if i not in set(stopwords.words('english'))]\n",
    "    word=\" \".join(word)\n",
    "    cleaned_sentences.append(word)\n",
    "\n",
    "print(cleaned_sentences)\n",
    "cv=CountVectorizer()\n",
    "Bagofwords=cv.fit_transform(cleaned_sentences).toarray()\n",
    "print(cv.vocabulary_)\n",
    "print(Bagofwords)"
   ]
  },
  {
   "cell_type": "code",
   "execution_count": 9,
   "id": "818d4cac-4659-4147-8d75-fe5bbb842e41",
   "metadata": {},
   "outputs": [
    {
     "data": {
      "text/plain": [
       "['amazing', 'best', 'game', 'great', 'series', 'thrones', 'tv']"
      ]
     },
     "execution_count": 9,
     "metadata": {},
     "output_type": "execute_result"
    }
   ],
   "source": [
    "sorted(list(cv.vocabulary_.keys()))"
   ]
  },
  {
   "cell_type": "code",
   "execution_count": 17,
   "id": "5bb51016-df71-4d78-b0b3-f3d84bcacb75",
   "metadata": {},
   "outputs": [
    {
     "data": {
      "text/plain": [
       "{'game': 2,\n",
       " 'thrones': 5,\n",
       " 'amazing': 0,\n",
       " 'tv': 6,\n",
       " 'series': 4,\n",
       " 'best': 1,\n",
       " 'great': 3}"
      ]
     },
     "execution_count": 17,
     "metadata": {},
     "output_type": "execute_result"
    }
   ],
   "source": [
    "cv.vocabulary_"
   ]
  },
  {
   "cell_type": "code",
   "execution_count": 19,
   "id": "f7a2cca8-daf8-48ba-a628-c40e5affcca1",
   "metadata": {},
   "outputs": [
    {
     "name": "stdout",
     "output_type": "stream",
     "text": [
      "vocabulary: ['nice', 'clouds', 'sky']\n",
      "[{'clouds': 0, 'nice': 1, 'sky': 1}, {'clouds': 1, 'nice': 1, 'sky': 0}, {'clouds': 1, 'nice': 1, 'sky': 1}]\n"
     ]
    },
    {
     "data": {
      "text/plain": [
       "[dict_values([0, 1, 1]), dict_values([1, 1, 0]), dict_values([1, 1, 1])]"
      ]
     },
     "execution_count": 19,
     "metadata": {},
     "output_type": "execute_result"
    }
   ],
   "source": [
    "sen=' '.join(cleaned_sentence)\n",
    "l=list(set(sen.split()))\n",
    "print(\"vocabulary:\",l)\n",
    "d={}\n",
    "l1=[]\n",
    "for sentence in cleaned_sentence:\n",
    "    for i in l:\n",
    "        if i in sentence:\n",
    "            d[i]=1\n",
    "        else:\n",
    "            d[i]=0\n",
    "    mykeys=list(d.keys())\n",
    "    mykeys.sort()\n",
    "    sorted_dict={i: d[i] for i in mykeys}\n",
    "    l1.append(sorted_dict)\n",
    "\n",
    "print(l1)\n",
    "l2=[i.values() for i in l1]\n",
    "l2"
   ]
  },
  {
   "cell_type": "code",
   "execution_count": 21,
   "id": "8061140a-238b-446e-bcb5-87c0914f5686",
   "metadata": {},
   "outputs": [
    {
     "name": "stdout",
     "output_type": "stream",
     "text": [
      "{'Game': 3, 'of': 3, 'Thrones': 3, 'is': 3, 'an': 1, 'amazing': 1, 'tv': 2, 'series': 2, '!': 2, 'the': 1, 'best': 1, 'so': 1, 'great': 1}\n"
     ]
    }
   ],
   "source": [
    "import nltk\n",
    "word2count={}\n",
    "for data in sentences:\n",
    "    words=nltk.word_tokenize(data)\n",
    "    for word in words:\n",
    "        if word not in word2count.keys():\n",
    "            word2count[word]=1\n",
    "        else:\n",
    "            word2count[word]+=1\n",
    "print(word2count)"
   ]
  },
  {
   "cell_type": "code",
   "execution_count": null,
   "id": "711d47da-3485-4ac1-bb94-df22793aaecb",
   "metadata": {},
   "outputs": [],
   "source": []
  }
 ],
 "metadata": {
  "kernelspec": {
   "display_name": "Python [conda env:anaconda1]",
   "language": "python",
   "name": "conda-env-anaconda1-py"
  },
  "language_info": {
   "codemirror_mode": {
    "name": "ipython",
    "version": 3
   },
   "file_extension": ".py",
   "mimetype": "text/x-python",
   "name": "python",
   "nbconvert_exporter": "python",
   "pygments_lexer": "ipython3",
   "version": "3.12.8"
  }
 },
 "nbformat": 4,
 "nbformat_minor": 5
}
